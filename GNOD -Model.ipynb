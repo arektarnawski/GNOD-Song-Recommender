{
 "cells": [
  {
   "cell_type": "code",
   "execution_count": 648,
   "id": "a7c0a8b3-db18-4377-ac8e-c886768ce3d9",
   "metadata": {},
   "outputs": [],
   "source": [
    "# ----- Lab 1 starts here (Web Scraping Single Page)"
   ]
  },
  {
   "cell_type": "code",
   "execution_count": 649,
   "id": "e212884a-6e31-4f4d-97dd-fe76699af2d0",
   "metadata": {},
   "outputs": [],
   "source": [
    "from bs4 import BeautifulSoup\n",
    "import requests\n",
    "import pandas as pd\n",
    "pd.set_option('display.max_rows', 20)"
   ]
  },
  {
   "cell_type": "code",
   "execution_count": 650,
   "id": "bd837eb6-dcdd-402b-a732-ea98fd6245a8",
   "metadata": {},
   "outputs": [],
   "source": [
    "url = \"https://www.billboard.com/charts/hot-100/\""
   ]
  },
  {
   "cell_type": "code",
   "execution_count": 651,
   "id": "7459ee8f-2a0d-4f57-8c70-103f3429a644",
   "metadata": {},
   "outputs": [
    {
     "data": {
      "text/plain": [
       "200"
      ]
     },
     "execution_count": 651,
     "metadata": {},
     "output_type": "execute_result"
    }
   ],
   "source": [
    "response = requests.get(url)\n",
    "response.status_code "
   ]
  },
  {
   "cell_type": "code",
   "execution_count": 652,
   "id": "9444784e-f5bf-43ba-805b-797b3bd730e8",
   "metadata": {},
   "outputs": [],
   "source": [
    "soup = BeautifulSoup(response.content, \"html.parser\")"
   ]
  },
  {
   "cell_type": "code",
   "execution_count": 653,
   "id": "ea740067-f4f7-4094-b822-c74606bec1aa",
   "metadata": {
    "tags": []
   },
   "outputs": [],
   "source": [
    "#Title\n",
    "titles = []\n",
    "for title in soup.select(\"#title-of-a-story\")[3:103]:\n",
    "    titles.append(title.get_text().strip())\n",
    "    \n",
    "# Artist\n",
    "artists = []\n",
    "for artist in soup.select(\"li.o-chart-results-list__item.\\/\\/.lrv-u-flex-grow-1.lrv-u-flex.lrv-u-flex-direction-column.lrv-u-justify-content-center.lrv-u-border-b-1.u-border-b-0\\@mobile-max.lrv-u-border-color-grey-light.lrv-u-padding-l-1\\@mobile-max > span\"):\n",
    "    artists.append(artist.get_text().strip())\n",
    "    \n",
    "top100billboard = pd.DataFrame({'artist':artists,'title':titles})"
   ]
  },
  {
   "cell_type": "code",
   "execution_count": 654,
   "id": "9042bf13-6407-468e-a74e-cd4139b6dc30",
   "metadata": {},
   "outputs": [
    {
     "data": {
      "text/html": [
       "<div>\n",
       "<style scoped>\n",
       "    .dataframe tbody tr th:only-of-type {\n",
       "        vertical-align: middle;\n",
       "    }\n",
       "\n",
       "    .dataframe tbody tr th {\n",
       "        vertical-align: top;\n",
       "    }\n",
       "\n",
       "    .dataframe thead th {\n",
       "        text-align: right;\n",
       "    }\n",
       "</style>\n",
       "<table border=\"1\" class=\"dataframe\">\n",
       "  <thead>\n",
       "    <tr style=\"text-align: right;\">\n",
       "      <th></th>\n",
       "      <th>artist</th>\n",
       "      <th>title</th>\n",
       "    </tr>\n",
       "  </thead>\n",
       "  <tbody>\n",
       "    <tr>\n",
       "      <th>0</th>\n",
       "      <td>Taylor Swift</td>\n",
       "      <td>All Too Well (Taylor's Version)</td>\n",
       "    </tr>\n",
       "    <tr>\n",
       "      <th>1</th>\n",
       "      <td>Adele</td>\n",
       "      <td>Easy On Me</td>\n",
       "    </tr>\n",
       "    <tr>\n",
       "      <th>2</th>\n",
       "      <td>The Kid LAROI &amp; Justin Bieber</td>\n",
       "      <td>Stay</td>\n",
       "    </tr>\n",
       "    <tr>\n",
       "      <th>3</th>\n",
       "      <td>Lil Nas X &amp; Jack Harlow</td>\n",
       "      <td>Industry Baby</td>\n",
       "    </tr>\n",
       "    <tr>\n",
       "      <th>4</th>\n",
       "      <td>Silk Sonic (Bruno Mars &amp; Anderson .Paak)</td>\n",
       "      <td>Smokin Out The Window</td>\n",
       "    </tr>\n",
       "    <tr>\n",
       "      <th>...</th>\n",
       "      <td>...</td>\n",
       "      <td>...</td>\n",
       "    </tr>\n",
       "    <tr>\n",
       "      <th>55</th>\n",
       "      <td>Summer Walker &amp; SZA</td>\n",
       "      <td>No Love</td>\n",
       "    </tr>\n",
       "    <tr>\n",
       "      <th>56</th>\n",
       "      <td>Normani Featuring Cardi B</td>\n",
       "      <td>Wild Side</td>\n",
       "    </tr>\n",
       "    <tr>\n",
       "      <th>57</th>\n",
       "      <td>Chloe</td>\n",
       "      <td>Have Mercy</td>\n",
       "    </tr>\n",
       "    <tr>\n",
       "      <th>58</th>\n",
       "      <td>Taylor Swift</td>\n",
       "      <td>I Almost Do (Taylor's Version)</td>\n",
       "    </tr>\n",
       "    <tr>\n",
       "      <th>59</th>\n",
       "      <td>Blxst &amp; Tyga Featuring Ty Dolla $ign</td>\n",
       "      <td>Chosen</td>\n",
       "    </tr>\n",
       "  </tbody>\n",
       "</table>\n",
       "<p>60 rows × 2 columns</p>\n",
       "</div>"
      ],
      "text/plain": [
       "                                      artist                            title\n",
       "0                               Taylor Swift  All Too Well (Taylor's Version)\n",
       "1                                      Adele                       Easy On Me\n",
       "2              The Kid LAROI & Justin Bieber                             Stay\n",
       "3                    Lil Nas X & Jack Harlow                    Industry Baby\n",
       "4   Silk Sonic (Bruno Mars & Anderson .Paak)            Smokin Out The Window\n",
       "..                                       ...                              ...\n",
       "55                       Summer Walker & SZA                          No Love\n",
       "56                 Normani Featuring Cardi B                        Wild Side\n",
       "57                                     Chloe                       Have Mercy\n",
       "58                              Taylor Swift   I Almost Do (Taylor's Version)\n",
       "59      Blxst & Tyga Featuring Ty Dolla $ign                           Chosen\n",
       "\n",
       "[60 rows x 2 columns]"
      ]
     },
     "execution_count": 654,
     "metadata": {},
     "output_type": "execute_result"
    }
   ],
   "source": [
    "top100billboard.head(60)"
   ]
  },
  {
   "cell_type": "code",
   "execution_count": 655,
   "id": "821d2d0a-b957-418f-a442-124acf4f8b20",
   "metadata": {},
   "outputs": [],
   "source": [
    "# ----- Lab 2 starts here (Web Scraping Multiple Pages)"
   ]
  },
  {
   "cell_type": "code",
   "execution_count": 656,
   "id": "f58e6c33-60fc-4724-a859-8b54df394e91",
   "metadata": {},
   "outputs": [],
   "source": [
    "# PopVortex iTunes Top100 USA"
   ]
  },
  {
   "cell_type": "code",
   "execution_count": 657,
   "id": "51c32655-fb4a-4a8e-8321-ff3230fa906e",
   "metadata": {},
   "outputs": [],
   "source": [
    "url = 'http://www.popvortex.com/music/charts/top-100-songs.php'"
   ]
  },
  {
   "cell_type": "code",
   "execution_count": 658,
   "id": "01920490-55e9-49e6-bfaa-30ec595e9848",
   "metadata": {},
   "outputs": [
    {
     "data": {
      "text/plain": [
       "'http://www.popvortex.com/music/charts/top-100-songs.php'"
      ]
     },
     "metadata": {},
     "output_type": "display_data"
    },
    {
     "data": {
      "text/plain": [
       "200"
      ]
     },
     "metadata": {},
     "output_type": "display_data"
    }
   ],
   "source": [
    "response = requests.get(url)\n",
    "display(url,response.status_code)"
   ]
  },
  {
   "cell_type": "code",
   "execution_count": 659,
   "id": "ed663efc-76ed-4a1b-88c6-d28b4ce219f2",
   "metadata": {},
   "outputs": [],
   "source": [
    "soup = BeautifulSoup(response.content, \"html.parser\")"
   ]
  },
  {
   "cell_type": "code",
   "execution_count": 660,
   "id": "ad590b12-7ca4-40f2-a7a7-b28ea636eecc",
   "metadata": {},
   "outputs": [
    {
     "data": {
      "text/html": [
       "<div>\n",
       "<style scoped>\n",
       "    .dataframe tbody tr th:only-of-type {\n",
       "        vertical-align: middle;\n",
       "    }\n",
       "\n",
       "    .dataframe tbody tr th {\n",
       "        vertical-align: top;\n",
       "    }\n",
       "\n",
       "    .dataframe thead th {\n",
       "        text-align: right;\n",
       "    }\n",
       "</style>\n",
       "<table border=\"1\" class=\"dataframe\">\n",
       "  <thead>\n",
       "    <tr style=\"text-align: right;\">\n",
       "      <th></th>\n",
       "      <th>artist</th>\n",
       "      <th>title</th>\n",
       "    </tr>\n",
       "  </thead>\n",
       "  <tbody>\n",
       "    <tr>\n",
       "      <th>0</th>\n",
       "      <td>Adele</td>\n",
       "      <td>Easy On Me</td>\n",
       "    </tr>\n",
       "    <tr>\n",
       "      <th>1</th>\n",
       "      <td>State of Mine &amp; Drew Jacobs</td>\n",
       "      <td>God's Country</td>\n",
       "    </tr>\n",
       "    <tr>\n",
       "      <th>2</th>\n",
       "      <td>Jimmie Allen &amp; Brad Paisley</td>\n",
       "      <td>Freedom Was A Highway</td>\n",
       "    </tr>\n",
       "    <tr>\n",
       "      <th>3</th>\n",
       "      <td>Elton John &amp; Dua Lipa</td>\n",
       "      <td>Cold Heart (PNAU Remix)</td>\n",
       "    </tr>\n",
       "    <tr>\n",
       "      <th>4</th>\n",
       "      <td>GAYLE</td>\n",
       "      <td>abcdefu</td>\n",
       "    </tr>\n",
       "    <tr>\n",
       "      <th>...</th>\n",
       "      <td>...</td>\n",
       "      <td>...</td>\n",
       "    </tr>\n",
       "    <tr>\n",
       "      <th>55</th>\n",
       "      <td>Adam Sandler</td>\n",
       "      <td>The Thanksgiving Song</td>\n",
       "    </tr>\n",
       "    <tr>\n",
       "      <th>56</th>\n",
       "      <td>Adele</td>\n",
       "      <td>Hold On</td>\n",
       "    </tr>\n",
       "    <tr>\n",
       "      <th>57</th>\n",
       "      <td>Rob Thomas</td>\n",
       "      <td>Small Town Christmas</td>\n",
       "    </tr>\n",
       "    <tr>\n",
       "      <th>58</th>\n",
       "      <td>Ryan Hurd &amp; Maren Morris</td>\n",
       "      <td>Chasing After You</td>\n",
       "    </tr>\n",
       "    <tr>\n",
       "      <th>59</th>\n",
       "      <td>Coldplay X BTS</td>\n",
       "      <td>My Universe</td>\n",
       "    </tr>\n",
       "  </tbody>\n",
       "</table>\n",
       "<p>60 rows × 2 columns</p>\n",
       "</div>"
      ],
      "text/plain": [
       "                         artist                    title\n",
       "0                         Adele               Easy On Me\n",
       "1   State of Mine & Drew Jacobs            God's Country\n",
       "2   Jimmie Allen & Brad Paisley    Freedom Was A Highway\n",
       "3         Elton John & Dua Lipa  Cold Heart (PNAU Remix)\n",
       "4                         GAYLE                  abcdefu\n",
       "..                          ...                      ...\n",
       "55                 Adam Sandler    The Thanksgiving Song\n",
       "56                        Adele                  Hold On\n",
       "57                   Rob Thomas     Small Town Christmas\n",
       "58     Ryan Hurd & Maren Morris        Chasing After You\n",
       "59               Coldplay X BTS              My Universe\n",
       "\n",
       "[60 rows x 2 columns]"
      ]
     },
     "execution_count": 660,
     "metadata": {},
     "output_type": "execute_result"
    }
   ],
   "source": [
    "#Title\n",
    "titles = []\n",
    "for title in soup.select(\"cite.title\"):\n",
    "    titles.append(title.get_text())\n",
    "    \n",
    "# Artist\n",
    "artists = []\n",
    "for artist in soup.select(\"em.artist\"):\n",
    "    artists.append(artist.get_text())\n",
    "    \n",
    "top100vortex = pd.DataFrame({'artist':artists,'title':titles})\n",
    "top100vortex.head(60)"
   ]
  },
  {
   "cell_type": "code",
   "execution_count": 661,
   "id": "a867330c-1524-46ba-9732-a213551bdd6b",
   "metadata": {},
   "outputs": [],
   "source": [
    "# Apple Music Top100 Global"
   ]
  },
  {
   "cell_type": "code",
   "execution_count": 662,
   "id": "a0951f36-608a-4772-951e-1d717a42789a",
   "metadata": {},
   "outputs": [],
   "source": [
    "url = 'https://music.apple.com/us/playlist/top-100-global/pl.d25f5d1181894928af76c85c967f8f31'"
   ]
  },
  {
   "cell_type": "code",
   "execution_count": 663,
   "id": "42d110ca-2b96-4990-b9a8-b63dbb609d36",
   "metadata": {},
   "outputs": [
    {
     "data": {
      "text/plain": [
       "'https://music.apple.com/us/playlist/top-100-global/pl.d25f5d1181894928af76c85c967f8f31'"
      ]
     },
     "metadata": {},
     "output_type": "display_data"
    },
    {
     "data": {
      "text/plain": [
       "200"
      ]
     },
     "metadata": {},
     "output_type": "display_data"
    }
   ],
   "source": [
    "response = requests.get(url)\n",
    "display(url,response.status_code)"
   ]
  },
  {
   "cell_type": "code",
   "execution_count": 664,
   "id": "96a1d9b9-c2d6-46e9-8f65-a63f4a6cfe79",
   "metadata": {},
   "outputs": [],
   "source": [
    "soup = BeautifulSoup(response.content, \"html.parser\")"
   ]
  },
  {
   "cell_type": "code",
   "execution_count": 665,
   "id": "322481e1-e6b6-4ed8-8daf-ab21029920e5",
   "metadata": {},
   "outputs": [
    {
     "data": {
      "text/plain": [
       "'Adele'"
      ]
     },
     "execution_count": 665,
     "metadata": {},
     "output_type": "execute_result"
    }
   ],
   "source": [
    "#Artist\n",
    "soup.select(\"div.songs-list-row__by-line\")[0].get_text().strip()"
   ]
  },
  {
   "cell_type": "code",
   "execution_count": 666,
   "id": "60642f9c-5444-4144-9dac-0a028dcd25f2",
   "metadata": {},
   "outputs": [
    {
     "data": {
      "text/plain": [
       "'Easy On Me'"
      ]
     },
     "execution_count": 666,
     "metadata": {},
     "output_type": "execute_result"
    }
   ],
   "source": [
    "#Title\n",
    "soup.select(\"div.songs-list-row__song-wrapper > div > div.songs-list-row__song-name\")[0].get_text()"
   ]
  },
  {
   "cell_type": "code",
   "execution_count": 667,
   "id": "418d8a02-fe61-4d73-8731-f3a987799ff8",
   "metadata": {},
   "outputs": [
    {
     "data": {
      "text/html": [
       "<div>\n",
       "<style scoped>\n",
       "    .dataframe tbody tr th:only-of-type {\n",
       "        vertical-align: middle;\n",
       "    }\n",
       "\n",
       "    .dataframe tbody tr th {\n",
       "        vertical-align: top;\n",
       "    }\n",
       "\n",
       "    .dataframe thead th {\n",
       "        text-align: right;\n",
       "    }\n",
       "</style>\n",
       "<table border=\"1\" class=\"dataframe\">\n",
       "  <thead>\n",
       "    <tr style=\"text-align: right;\">\n",
       "      <th></th>\n",
       "      <th>artist</th>\n",
       "      <th>title</th>\n",
       "    </tr>\n",
       "  </thead>\n",
       "  <tbody>\n",
       "    <tr>\n",
       "      <th>0</th>\n",
       "      <td>Adele</td>\n",
       "      <td>Easy On Me</td>\n",
       "    </tr>\n",
       "    <tr>\n",
       "      <th>1</th>\n",
       "      <td>Adele</td>\n",
       "      <td>Oh My God</td>\n",
       "    </tr>\n",
       "    <tr>\n",
       "      <th>2</th>\n",
       "      <td>Adele</td>\n",
       "      <td>I Drink Wine</td>\n",
       "    </tr>\n",
       "    <tr>\n",
       "      <th>3</th>\n",
       "      <td>Adele</td>\n",
       "      <td>My Little Love</td>\n",
       "    </tr>\n",
       "    <tr>\n",
       "      <th>4</th>\n",
       "      <td>The Kid LAROI &amp;  Justin Bieber</td>\n",
       "      <td>STAY</td>\n",
       "    </tr>\n",
       "    <tr>\n",
       "      <th>...</th>\n",
       "      <td>...</td>\n",
       "      <td>...</td>\n",
       "    </tr>\n",
       "    <tr>\n",
       "      <th>55</th>\n",
       "      <td>Summer Walker,  JT, &amp;  City Girls</td>\n",
       "      <td>Ex For A Reason</td>\n",
       "    </tr>\n",
       "    <tr>\n",
       "      <th>56</th>\n",
       "      <td>Olivia Rodrigo</td>\n",
       "      <td>good 4 u</td>\n",
       "    </tr>\n",
       "    <tr>\n",
       "      <th>57</th>\n",
       "      <td>Lil Nas X</td>\n",
       "      <td>THATS WHAT I WANT</td>\n",
       "    </tr>\n",
       "    <tr>\n",
       "      <th>58</th>\n",
       "      <td>Drake</td>\n",
       "      <td>Wants and Needs (feat. Lil Baby)</td>\n",
       "    </tr>\n",
       "    <tr>\n",
       "      <th>59</th>\n",
       "      <td>THE ANXIETY,  WILLOW, &amp;  Tyler Cole</td>\n",
       "      <td>Meet Me At Our Spot</td>\n",
       "    </tr>\n",
       "  </tbody>\n",
       "</table>\n",
       "<p>60 rows × 2 columns</p>\n",
       "</div>"
      ],
      "text/plain": [
       "                                 artist                             title\n",
       "0                                 Adele                        Easy On Me\n",
       "1                                 Adele                         Oh My God\n",
       "2                                 Adele                      I Drink Wine\n",
       "3                                 Adele                    My Little Love\n",
       "4        The Kid LAROI &  Justin Bieber                              STAY\n",
       "..                                  ...                               ...\n",
       "55    Summer Walker,  JT, &  City Girls                   Ex For A Reason\n",
       "56                       Olivia Rodrigo                          good 4 u\n",
       "57                            Lil Nas X                 THATS WHAT I WANT\n",
       "58                                Drake  Wants and Needs (feat. Lil Baby)\n",
       "59  THE ANXIETY,  WILLOW, &  Tyler Cole               Meet Me At Our Spot\n",
       "\n",
       "[60 rows x 2 columns]"
      ]
     },
     "execution_count": 667,
     "metadata": {},
     "output_type": "execute_result"
    }
   ],
   "source": [
    "#Title\n",
    "titles = []\n",
    "for title in soup.select(\"div.songs-list__col.songs-list__col--song.typography-body > div > div.songs-list-row__song-wrapper > div\"):\n",
    "    titles.append(title.get_text().strip())\n",
    "    \n",
    "# Artist\n",
    "artists = []\n",
    "for artist in soup.select(\"div.songs-list-row__by-line\"):\n",
    "    artists.append(artist.get_text().strip())\n",
    "    \n",
    "top100apple = pd.DataFrame({'artist':artists,'title':titles})\n",
    "top100apple['title'] = top100apple['title'].apply(lambda x: x.split(\"\\n\")[0])\n",
    "top100apple.head(60)"
   ]
  },
  {
   "cell_type": "code",
   "execution_count": 668,
   "id": "9c7524c3-ee3b-41d5-966b-7b02a6d202ae",
   "metadata": {},
   "outputs": [],
   "source": [
    "# 4 Decades between 1980 - 2010\n",
    "# TSORT Top100 by decade"
   ]
  },
  {
   "cell_type": "code",
   "execution_count": 669,
   "id": "901fc17e-3e90-4b9e-a885-095f9504024a",
   "metadata": {},
   "outputs": [],
   "source": [
    "url2010 = 'http://tsort.info/music/ds2010.htm'\n",
    "url2000 = 'http://tsort.info/music/ds2000.htm'\n",
    "url1990 = 'http://tsort.info/music/ds1990.htm'\n",
    "url1980 = 'http://tsort.info/music/ds1980.htm'"
   ]
  },
  {
   "cell_type": "code",
   "execution_count": 670,
   "id": "5a8f9c07-7be3-40f3-9eea-9c2e7dc6413f",
   "metadata": {},
   "outputs": [
    {
     "data": {
      "text/plain": [
       "'http://tsort.info/music/ds2010.htm'"
      ]
     },
     "metadata": {},
     "output_type": "display_data"
    },
    {
     "data": {
      "text/plain": [
       "200"
      ]
     },
     "metadata": {},
     "output_type": "display_data"
    },
    {
     "data": {
      "text/plain": [
       "'http://tsort.info/music/ds2000.htm'"
      ]
     },
     "metadata": {},
     "output_type": "display_data"
    },
    {
     "data": {
      "text/plain": [
       "200"
      ]
     },
     "metadata": {},
     "output_type": "display_data"
    },
    {
     "data": {
      "text/plain": [
       "'http://tsort.info/music/ds1990.htm'"
      ]
     },
     "metadata": {},
     "output_type": "display_data"
    },
    {
     "data": {
      "text/plain": [
       "200"
      ]
     },
     "metadata": {},
     "output_type": "display_data"
    },
    {
     "data": {
      "text/plain": [
       "'http://tsort.info/music/ds1980.htm'"
      ]
     },
     "metadata": {},
     "output_type": "display_data"
    },
    {
     "data": {
      "text/plain": [
       "200"
      ]
     },
     "metadata": {},
     "output_type": "display_data"
    }
   ],
   "source": [
    "for url in [url2010, url2000,url1990,url1980]:\n",
    "    response = requests.get(url)\n",
    "    display(url,response.status_code)"
   ]
  },
  {
   "cell_type": "code",
   "execution_count": 671,
   "id": "f5276891-1b09-4c3a-8e41-daad6f0aa316",
   "metadata": {},
   "outputs": [],
   "source": [
    "soup2010 = BeautifulSoup(requests.get(url2010).content, \"html.parser\")\n",
    "soup2000 = BeautifulSoup(requests.get(url2000).content, \"html.parser\")\n",
    "soup1990 = BeautifulSoup(requests.get(url1990).content, \"html.parser\")\n",
    "soup1980 = BeautifulSoup(requests.get(url1980).content, \"html.parser\")"
   ]
  },
  {
   "cell_type": "code",
   "execution_count": 672,
   "id": "389ac1c5-6d7c-4ced-a122-00b7b5a0c068",
   "metadata": {},
   "outputs": [],
   "source": [
    "#1980\n",
    "artists = []\n",
    "titles = []\n",
    "years = []\n",
    "\n",
    "for artist in soup1980.select(\"td.art\"): #Artist\n",
    "    artists.append(artist.get_text())\n",
    "    \n",
    "for title in soup1980.select(\"td.tit\"): #Title\n",
    "    titles.append(title.get_text())\n",
    "    \n",
    "for year in soup1980.select(\"td.yer\"): #Year\n",
    "    years.append(year.get_text())\n",
    "\n",
    "year1980 = pd.DataFrame({'artist':artists, 'title':titles, 'year':years})"
   ]
  },
  {
   "cell_type": "code",
   "execution_count": 673,
   "id": "4c711208-937a-4245-af8a-9489531b5f19",
   "metadata": {},
   "outputs": [],
   "source": [
    "#1990\n",
    "artists = []\n",
    "titles = []\n",
    "years = []\n",
    "\n",
    "for artist in soup1990.select(\"td.art\"): #Artist\n",
    "    artists.append(artist.get_text())\n",
    "    \n",
    "for title in soup1990.select(\"td.tit\"): #Title\n",
    "    titles.append(title.get_text())\n",
    "    \n",
    "for year in soup1990.select(\"td.yer\"): #Year\n",
    "    years.append(year.get_text())\n",
    "\n",
    "year1990 = pd.DataFrame({'artist':artists, 'title':titles, 'year':years})"
   ]
  },
  {
   "cell_type": "code",
   "execution_count": 674,
   "id": "7c4cbd63-b00d-48e5-9f34-0d12ec4be350",
   "metadata": {},
   "outputs": [],
   "source": [
    "#2000\n",
    "artists = []\n",
    "titles = []\n",
    "years = []\n",
    "\n",
    "for artist in soup2000.select(\"td.art\"): #Artist\n",
    "    artists.append(artist.get_text())\n",
    "    \n",
    "for title in soup2000.select(\"td.tit\"): #Title\n",
    "    titles.append(title.get_text())\n",
    "    \n",
    "for year in soup2000.select(\"td.yer\"): #Year\n",
    "    years.append(year.get_text())\n",
    "\n",
    "year2000 = pd.DataFrame({'artist':artists, 'title':titles, 'year':years})"
   ]
  },
  {
   "cell_type": "code",
   "execution_count": 675,
   "id": "47723893-f773-4df6-be33-168b208298e6",
   "metadata": {},
   "outputs": [],
   "source": [
    "#2010\n",
    "artists = []\n",
    "titles = []\n",
    "years = []\n",
    "\n",
    "for artist in soup2010.select(\"td.art\"): #Artist\n",
    "    artists.append(artist.get_text())\n",
    "    \n",
    "for title in soup2010.select(\"td.tit\"): #Title\n",
    "    titles.append(title.get_text())\n",
    "    \n",
    "for year in soup2010.select(\"td.yer\"): #Year\n",
    "    years.append(year.get_text())\n",
    "\n",
    "year2010 = pd.DataFrame({'artist':artists, 'title':titles, 'year':years})"
   ]
  },
  {
   "cell_type": "code",
   "execution_count": 676,
   "id": "01f01e3a-edb4-4470-ab91-43fb975ded5a",
   "metadata": {},
   "outputs": [],
   "source": [
    "top100_80s_10s = pd.concat([year1980,year1990,year2000,year2010], axis = 0)"
   ]
  },
  {
   "cell_type": "code",
   "execution_count": 677,
   "id": "4caba022-780f-48fa-96e9-bd6cc63484cb",
   "metadata": {},
   "outputs": [
    {
     "data": {
      "text/html": [
       "<div>\n",
       "<style scoped>\n",
       "    .dataframe tbody tr th:only-of-type {\n",
       "        vertical-align: middle;\n",
       "    }\n",
       "\n",
       "    .dataframe tbody tr th {\n",
       "        vertical-align: top;\n",
       "    }\n",
       "\n",
       "    .dataframe thead th {\n",
       "        text-align: right;\n",
       "    }\n",
       "</style>\n",
       "<table border=\"1\" class=\"dataframe\">\n",
       "  <thead>\n",
       "    <tr style=\"text-align: right;\">\n",
       "      <th></th>\n",
       "      <th>artist</th>\n",
       "      <th>title</th>\n",
       "      <th>year</th>\n",
       "    </tr>\n",
       "  </thead>\n",
       "  <tbody>\n",
       "    <tr>\n",
       "      <th>0</th>\n",
       "      <td>Pink Floyd</td>\n",
       "      <td>Another Brick in the Wall (part 2)</td>\n",
       "      <td>1980</td>\n",
       "    </tr>\n",
       "    <tr>\n",
       "      <th>1</th>\n",
       "      <td>Irene Cara</td>\n",
       "      <td>Flashdance... What a Feeling</td>\n",
       "      <td>1983</td>\n",
       "    </tr>\n",
       "    <tr>\n",
       "      <th>2</th>\n",
       "      <td>Kim Carnes</td>\n",
       "      <td>Bette Davis Eyes</td>\n",
       "      <td>1981</td>\n",
       "    </tr>\n",
       "    <tr>\n",
       "      <th>3</th>\n",
       "      <td>The Police</td>\n",
       "      <td>Every Breath You Take</td>\n",
       "      <td>1983</td>\n",
       "    </tr>\n",
       "    <tr>\n",
       "      <th>4</th>\n",
       "      <td>Michael Jackson</td>\n",
       "      <td>Billie Jean</td>\n",
       "      <td>1983</td>\n",
       "    </tr>\n",
       "    <tr>\n",
       "      <th>...</th>\n",
       "      <td>...</td>\n",
       "      <td>...</td>\n",
       "      <td>...</td>\n",
       "    </tr>\n",
       "    <tr>\n",
       "      <th>55</th>\n",
       "      <td>Fine Young Cannibals</td>\n",
       "      <td>She Drives Me Crazy</td>\n",
       "      <td>1989</td>\n",
       "    </tr>\n",
       "    <tr>\n",
       "      <th>56</th>\n",
       "      <td>Lionel Richie</td>\n",
       "      <td>All Night Long (All Night)</td>\n",
       "      <td>1983</td>\n",
       "    </tr>\n",
       "    <tr>\n",
       "      <th>57</th>\n",
       "      <td>Roxette</td>\n",
       "      <td>The Look</td>\n",
       "      <td>1989</td>\n",
       "    </tr>\n",
       "    <tr>\n",
       "      <th>58</th>\n",
       "      <td>UB40</td>\n",
       "      <td>Red Red Wine</td>\n",
       "      <td>1983</td>\n",
       "    </tr>\n",
       "    <tr>\n",
       "      <th>59</th>\n",
       "      <td>The Bangles</td>\n",
       "      <td>Eternal Flame</td>\n",
       "      <td>1989</td>\n",
       "    </tr>\n",
       "  </tbody>\n",
       "</table>\n",
       "<p>60 rows × 3 columns</p>\n",
       "</div>"
      ],
      "text/plain": [
       "                  artist                               title  year\n",
       "0             Pink Floyd  Another Brick in the Wall (part 2)  1980\n",
       "1             Irene Cara        Flashdance... What a Feeling  1983\n",
       "2             Kim Carnes                    Bette Davis Eyes  1981\n",
       "3             The Police               Every Breath You Take  1983\n",
       "4        Michael Jackson                         Billie Jean  1983\n",
       "..                   ...                                 ...   ...\n",
       "55  Fine Young Cannibals                 She Drives Me Crazy  1989\n",
       "56         Lionel Richie          All Night Long (All Night)  1983\n",
       "57               Roxette                            The Look  1989\n",
       "58                  UB40                        Red Red Wine  1983\n",
       "59           The Bangles                       Eternal Flame  1989\n",
       "\n",
       "[60 rows x 3 columns]"
      ]
     },
     "execution_count": 677,
     "metadata": {},
     "output_type": "execute_result"
    }
   ],
   "source": [
    "top100_80s_10s.head(60)"
   ]
  },
  {
   "cell_type": "code",
   "execution_count": 678,
   "id": "fa2a0a50-95b6-4fd8-a709-1fb50b67caaa",
   "metadata": {},
   "outputs": [],
   "source": [
    "# ----- Lab 3 starts here (User Input & Hot Song Recommender)"
   ]
  },
  {
   "cell_type": "code",
   "execution_count": 679,
   "id": "fd8cb837-7203-4953-b4c6-7a6e63ddc881",
   "metadata": {},
   "outputs": [],
   "source": [
    "# Compose hot songs dataframe (top100billboard, top100vortex, top100apple)\n",
    "\n",
    "hot_songs = pd.concat([top100billboard,top100vortex,top100apple], axis = 0)\n",
    "# Not removing duplicates on purpose... they do not spoil anything here, and actually can make the user input matched a bit more frequently\n",
    "\n",
    "# lower case\n",
    "hot_songs['artist'] = hot_songs['artist'].apply(lambda x: x.lower())\n",
    "hot_songs['title'] = hot_songs['title'].apply(lambda x: x.lower())\n",
    "hot_songs.sort_values(by = 'title', inplace = True)\n",
    "hot_songs.dropna()\n",
    "hot_songs = hot_songs[~hot_songs.duplicated()]\n",
    "hot_songs.reset_index(drop=True, inplace=True)\n",
    "hot_songs.to_csv('hot_songs.csv', index=False)"
   ]
  },
  {
   "cell_type": "code",
   "execution_count": 680,
   "id": "068ab2fb-3b55-4d79-b810-56dc62b65079",
   "metadata": {},
   "outputs": [
    {
     "name": "stdin",
     "output_type": "stream",
     "text": [
      "Please type the song name: abba\n",
      "Please type the artist: mamma mia\n"
     ]
    }
   ],
   "source": [
    "# Read user input\n",
    "song = input('Please type the song name:').lower()\n",
    "artist = input('Please type the artist:').lower()"
   ]
  },
  {
   "cell_type": "code",
   "execution_count": 34,
   "id": "ff1036c5-1da8-4b63-934b-2d833f7fabf8",
   "metadata": {},
   "outputs": [],
   "source": [
    "import random\n",
    "\n",
    "# If user typed the correct title and artist of a hot song, return any (other) hot song\n",
    "\n",
    "if hot_songs[(hot_songs['title'] == song) & (hot_songs['artist'] == artist)].count()[0] > 0:\n",
    "    rand_song = hot_songs[(hot_songs['title'] != song) & (hot_songs['artist'] != artist)].iloc[random.choice(hot_songs.index)]\n",
    "    new_song = rand_song[0] + ' - ' + rand_song[1]\n",
    "    print('Hot song entered, why don\\'t you try this one then:')\n",
    "    print('\\033[1;32m', new_song)"
   ]
  },
  {
   "cell_type": "code",
   "execution_count": 35,
   "id": "ce4bce33-50ed-42d1-8a9e-0065268dc96e",
   "metadata": {},
   "outputs": [],
   "source": [
    "# ----- Lab 4 starts here (API wrappers - Create your collection of songs & audio features)"
   ]
  },
  {
   "cell_type": "code",
   "execution_count": 681,
   "id": "d17b9a5f-9987-4c92-b711-1d95cd7e66cd",
   "metadata": {},
   "outputs": [],
   "source": [
    "# Creating Spotify wrapper\n",
    "\n",
    "import spotipy\n",
    "from spotipy.oauth2 import SpotifyClientCredentials\n",
    "\n",
    "secrets_file = open(\"secrets.txt\",\"r\")\n",
    "string = secrets_file.read()\n",
    "\n",
    "secrets_dict={}\n",
    "for line in string.split('\\n'):\n",
    "    if len(line) > 0:\n",
    "        secrets_dict[line.split(':')[0]]=line.split(':')[1]\n",
    "\n",
    "sp = spotipy.Spotify(auth_manager=SpotifyClientCredentials(client_id=secrets_dict['cid'], client_secret=secrets_dict['csecret']))"
   ]
  },
  {
   "cell_type": "code",
   "execution_count": 682,
   "id": "893c3b78-5f21-4ed9-9c85-14330f97631a",
   "metadata": {},
   "outputs": [],
   "source": [
    "# Playlist crawler - get song name, artists, uri and song features\n",
    "# Not the cleanest or quickest code.. but it does the job\n",
    "\n",
    "def playlist_crawler(playlist_id):\n",
    "\n",
    "    import pandas as pd \n",
    "    from random import randint\n",
    "    from time import sleep\n",
    "    from tqdm import tqdm as tqdm\n",
    "    import time\n",
    "    \n",
    "    # tracks extractor\n",
    "    results = sp.user_playlist_tracks(\"spotify\",playlist_id)\n",
    "\n",
    "    tracks = results['items']\n",
    "    while results['next']!=None:\n",
    "        results = sp.next(results)\n",
    "        tracks = tracks + results['items']\n",
    "        sleep(randint(1,2))\n",
    "\n",
    "    data = []\n",
    "    for item in tracks:\n",
    "        if item['track'] is not None:\n",
    "            for artist in item['track']['artists']:\n",
    "                data.append([(item['track']['name'], artist['name'], item['track']['uri'])])\n",
    "\n",
    "    data = [item for sublist in data for item in sublist] # flatten the list of lists\n",
    "\n",
    "    # feature extractor\n",
    "    features = []\n",
    "    for item in data:\n",
    "        features.append(sp.audio_features(item[2]))\n",
    "\n",
    "    df_features = pd.DataFrame([])\n",
    "    for song in features:\n",
    "        df_features = df_features.append([song[0]])\n",
    "\n",
    "\n",
    "    semi = pd.DataFrame([])\n",
    "    for item in data:\n",
    "        semi = semi.append(pd.Series(item), ignore_index=True)\n",
    "        \n",
    "    df_features = df_features.reset_index(drop=True)\n",
    "    \n",
    "    global final\n",
    "    \n",
    "    final = pd.concat([semi,df_features], axis = 1)\n",
    "\n",
    "    final.columns.values[0] = 'title'\n",
    "    final.columns.values[1] = 'artist'\n",
    "    final.columns.values[2] = 'uri2'\n",
    "\n",
    "    final = final[['title','artist','danceability','energy','key','loudness','mode','speechiness','acousticness','instrumentalness','liveness','valence','tempo','uri','duration_ms','time_signature']]"
   ]
  },
  {
   "cell_type": "code",
   "execution_count": 683,
   "id": "fc752cb5-4456-417e-9b8a-aa0d657e65ea",
   "metadata": {},
   "outputs": [],
   "source": [
    "# Hand-pick playlists to get music information from\n",
    "\n",
    "playlists = {}\n",
    "\n",
    "# Pop\n",
    "playlists['todays_top_hits'] = '37i9dQZF1DXcBWIGoYBM5M'\n",
    "playlists['mega_hit_mix'] = '37i9dQZF1DXbYM3nMM0oPk'\n",
    "playlists['pop_up'] = '37i9dQZF1DX6aTaZa0K6VA'\n",
    "playlists['hit_rewind'] = '37i9dQZF1DX0s5kDXi1oC5'\n",
    "playlists['soft_pop_hits'] = '37i9dQZF1DWTwnEm1IYyoj'\n",
    "playlists['party_hits'] = '37i9dQZF1DXa2PvUpywmrr'\n",
    "playlists['pop_remix'] = '37i9dQZF1DXcZDD7cfEKhW'\n",
    "\n",
    "# Rock\n",
    "playlists['rock_classics'] = '37i9dQZF1DWXRqgorJj26U'\n",
    "playlists['rock_this'] = '37i9dQZF1DXcF6B6QPhFDv'\n",
    "playlists['70s_rock_anthems'] = '37i9dQZF1DWWwzidNQX6jx'\n",
    "playlists['80s_rock_anthems'] = '37i9dQZF1DX1spT6G94GFC'\n",
    "playlists['90s_rock_anthems'] = '37i9dQZF1DX1rVvRgjX59F'\n",
    "playlists['00s_rock_anthems'] = '37i9dQZF1DX3oM43CtKnRV'\n",
    "playlists['soft_rock'] = '37i9dQZF1DX6xOPeSOGone'\n",
    "playlists['legendary'] = '37i9dQZF1DWWGFQLoP9qlv'\n",
    "playlists['rock_party'] = '37i9dQZF1DX8FwnYE6PRvL'\n",
    "playlists['80s_hard_rock'] = '37i9dQZF1DX68H8ZujdnN7'\n",
    "\n",
    "# Dance, Electro, Techno, House\n",
    "playlists['mint'] = '37i9dQZF1DX4dyzvuaRJ0n'\n",
    "playlists['dance_party'] = '37i9dQZF1DXaXB8fQg7xif'\n",
    "playlists['throwback_party'] = '37i9dQZF1DX7F6T2n2fegs'\n",
    "playlists['massive_dance_hits'] = '37i9dQZF1DX5uokaTN4FTR'\n",
    "playlists['techno_bunker'] = '37i9dQZF1DX6J5NfMJS675'\n",
    "playlists['best_of_house_2000_2010'] = '4feq7UBWFnq7ACWqILr3D5'\n",
    "\n",
    "# Rap\n",
    "playlists['rap_caviar'] = '37i9dQZF1DX0XUsuxWHRQd'\n",
    "playlists['get_turnt'] = '37i9dQZF1DWY4xHQp97fN6'\n",
    "playlists['i_love_my_90s_hiphop'] = '37i9dQZF1DX186v583rmzp'\n",
    "playlists['most_necessary'] = '37i9dQZF1DX2RxBh64BHjQ'\n",
    "\n",
    "# R&B\n",
    "playlists['are_be'] = '37i9dQZF1DX4SBhb3fqCJd'\n",
    "playlists['i_love_my_00s_rb'] = '37i9dQZF1DWYmmr74INQlb'\n",
    "playlists['i_love_my_90s_rb'] = '37i9dQZF1DX6VDO8a6cQME'\n",
    "\n",
    "# Jazz & Blues\n",
    "playlists['coffee_table_jazz'] = '37i9dQZF1DWVqfgj8NZEp1'\n",
    "playlists['funky_heavy_bluesy'] = '37i9dQZF1DX9stbPFTxeaB'\n",
    "playlists['jazz_classics'] = '37i9dQZF1DXbITWG1ZJKYt'\n",
    "playlists['blues_classics'] = '37i9dQZF1DXd9rSDyQguIk'\n",
    "\n",
    "# Country\n",
    "playlists['hot_country'] = '37i9dQZF1DX1lVhptIYRda'\n",
    "playlists['90s_country'] = '37i9dQZF1DWVpjAJGB70vU'\n",
    "\n",
    "# Classical\n",
    "playlists['classical_essentials'] = '37i9dQZF1DWWEJlAGA9gs0'\n",
    "\n",
    "# Latin\n",
    "playlists['viva_latino'] = '37i9dQZF1DX10zKzsJ2jva'\n",
    "\n",
    "# Other\n",
    "playlists['beast_mode'] = '37i9dQZF1DX76Wlfdnj7AP'\n",
    "playlists['biggest_playlist_ever'] = '4rnleEAOdmFAbRcNCgZMpY'"
   ]
  },
  {
   "cell_type": "code",
   "execution_count": 684,
   "id": "6c5ea402-cde1-46ab-a46d-87fe5a021e55",
   "metadata": {
    "tags": []
   },
   "outputs": [
    {
     "name": "stderr",
     "output_type": "stream",
     "text": [
      "100%|██████████| 40/40 [25:06<00:00, 37.66s/it] \n"
     ]
    }
   ],
   "source": [
    "# Run the crawler for each playlist.. create the final database\n",
    "\n",
    "# !pip install tqdm\n",
    "from tqdm import tqdm\n",
    "import time\n",
    "\n",
    "database = pd.DataFrame([])\n",
    "\n",
    "for playlist in tqdm(list(playlists.values())):\n",
    "        playlist_crawler(playlist)\n",
    "        database = database.append(final)\n",
    "database = database[~database.duplicated(['artist', 'title'])]\n",
    "database = database.dropna()\n",
    "database.reset_index(drop=True, inplace=True)"
   ]
  },
  {
   "cell_type": "code",
   "execution_count": 685,
   "id": "0ab598b3-1b7c-418b-ba93-622b593b94ab",
   "metadata": {},
   "outputs": [],
   "source": [
    "# ----- Lab 5 starts here (Unsupervised learning)"
   ]
  },
  {
   "cell_type": "code",
   "execution_count": 686,
   "id": "d794cc22-e33a-4f45-b6dd-a734f6394a09",
   "metadata": {},
   "outputs": [],
   "source": [
    "# Read the data back without re-running the loop\n",
    "import pandas as pd\n",
    "import numpy as np\n",
    "\n",
    "X = np.array(database[['danceability','energy','loudness','speechiness','acousticness','instrumentalness','liveness','valence','tempo','time_signature']])"
   ]
  },
  {
   "cell_type": "code",
   "execution_count": 687,
   "id": "5f754424-0b4d-4a9e-a9e8-1ca6c3e8389a",
   "metadata": {},
   "outputs": [],
   "source": [
    "# Standardize the values\n",
    "from sklearn.preprocessing import StandardScaler\n",
    "\n",
    "scaler = StandardScaler().fit(X)\n",
    "X_prep = scaler.transform(X)"
   ]
  },
  {
   "cell_type": "code",
   "execution_count": 688,
   "id": "2c50bb5e-21d7-4041-8ecf-292bef8e3784",
   "metadata": {},
   "outputs": [
    {
     "data": {
      "text/plain": [
       "0    1359\n",
       "1    2726\n",
       "2     845\n",
       "3     684\n",
       "4    3176\n",
       "5    1062\n",
       "6      48\n",
       "7    1341\n",
       "8     515\n",
       "dtype: int64"
      ]
     },
     "execution_count": 688,
     "metadata": {},
     "output_type": "execute_result"
    }
   ],
   "source": [
    "# K-means right-away - plotting these individual characteristics is really no good\n",
    "from sklearn.cluster import KMeans\n",
    "\n",
    "kmeans = cluster.KMeans(n_clusters=9) # I added 9 genres so starting with 9 here\n",
    "kmeans.fit(X_prep)\n",
    "clusters = kmeans.predict(X_prep)\n",
    "\n",
    "# Check the size of the clusters\n",
    "pd.Series(clusters).value_counts().sort_index()"
   ]
  },
  {
   "cell_type": "code",
   "execution_count": 689,
   "id": "9d757906-b15b-4476-aa3d-cd4867390533",
   "metadata": {},
   "outputs": [
    {
     "name": "stdout",
     "output_type": "stream",
     "text": [
      "Inertia: 49026\n",
      "Silhouette Score: 0.169\n"
     ]
    }
   ],
   "source": [
    "# Checking the model score\n",
    "from sklearn.metrics import silhouette_score\n",
    "\n",
    "print('Inertia:',round(kmeans.inertia_))\n",
    "print('Silhouette Score:',round(silhouette_score(X_prep, kmeans.predict(X_prep)),3))"
   ]
  },
  {
   "cell_type": "code",
   "execution_count": 690,
   "id": "61a1db7d-ea46-4c4e-bf1d-19b801ee7f4c",
   "metadata": {},
   "outputs": [
    {
     "name": "stderr",
     "output_type": "stream",
     "text": [
      "Inertia: 100%|██████████| 18/18 [00:06<00:00,  2.79it/s]\n",
      "Silhouette: 100%|██████████| 18/18 [00:48<00:00,  2.67s/it]\n"
     ]
    },
    {
     "data": {
      "text/plain": [
       "Text(0.5, 1.0, 'Silhouette Method showing the optimal k')"
      ]
     },
     "execution_count": 690,
     "metadata": {},
     "output_type": "execute_result"
    },
    {
     "data": {
      "image/png": "[encoded data removed]",
      "text/plain": [
       "<Figure size 1152x576 with 1 Axes>"
      ]
     },
     "metadata": {
      "needs_background": "light"
     },
     "output_type": "display_data"
    },
    {
     "data": {
      "image/png": "[encoded data removed]",
      "text/plain": [
       "<Figure size 1152x576 with 1 Axes>"
      ]
     },
     "metadata": {
      "needs_background": "light"
     },
     "output_type": "display_data"
    }
   ],
   "source": [
    "# Checking what K might be better\n",
    "from tqdm import tqdm as tqdm\n",
    "import time\n",
    "\n",
    "# Inertia approach - one might risk saying the elob is at n = 9  actually\n",
    "K = range(2, 20)\n",
    "inertia = []\n",
    "\n",
    "for k in tqdm(K,desc='Inertia'):\n",
    "    kmeans = KMeans(n_clusters=k,\n",
    "                    random_state=1337)\n",
    "    kmeans.fit(X_prep)\n",
    "    inertia.append(kmeans.inertia_)\n",
    "\n",
    "import matplotlib.pyplot as plt\n",
    "%matplotlib inline\n",
    "\n",
    "plt.figure(figsize=(16,8))\n",
    "plt.plot(K, inertia, 'bx-')\n",
    "plt.xlabel('k')\n",
    "plt.ylabel('inertia')\n",
    "plt.xticks(np.arange(min(K), max(K)+1, 1.0))\n",
    "plt.title('Elbow Method showing the optimal k')\n",
    "\n",
    "# Silhouette approach - we cannot go with just two buckets, that wouldn't be a useful recommender. Among the n < 20, 9, 10 and 11 are quite comparable\n",
    "K = range(2, 20)\n",
    "silhouette = []\n",
    "\n",
    "for k in tqdm(K,desc='Silhouette'):\n",
    "    kmeans = KMeans(n_clusters=k,\n",
    "                    random_state=1234)\n",
    "    kmeans.fit(X_prep)\n",
    "    silhouette.append(silhouette_score(X_prep, kmeans.predict(X_prep)))\n",
    "\n",
    "\n",
    "plt.figure(figsize=(16,8))\n",
    "plt.plot(K, silhouette, 'ro-')\n",
    "plt.xlabel('k')\n",
    "plt.ylabel('silhouette score')\n",
    "plt.xticks(np.arange(min(K), max(K)+1, 1.0))\n",
    "plt.title('Silhouette Method showing the optimal k')"
   ]
  },
  {
   "cell_type": "code",
   "execution_count": 691,
   "id": "0cf39b6d-6d1e-4760-b910-cc88cbc8cbbe",
   "metadata": {},
   "outputs": [
    {
     "name": "stdout",
     "output_type": "stream",
     "text": [
      "Silhouette Score (Complete): 0.129\n",
      "Silhouette Score (Ward): 0.124\n",
      "Silhouette Score (Single): 0.369\n"
     ]
    }
   ],
   "source": [
    "# Agglomerative clustering approach - slightly higher than Kmeans, single is a lot but uses only 1 cluster basically...\n",
    "\n",
    "from sklearn import cluster\n",
    "\n",
    "agglomerative_complete = cluster.AgglomerativeClustering(n_clusters=10,linkage='complete')\n",
    "pred = agglomerative.fit_predict(X_prep)\n",
    "\n",
    "agglomerative_ward = cluster.AgglomerativeClustering(n_clusters=10,linkage='ward')\n",
    "pred = agglomerative.fit_predict(X_prep)\n",
    "\n",
    "agglomerative_single = cluster.AgglomerativeClustering(n_clusters=10,linkage='single')\n",
    "pred = agglomerative.fit_predict(X_prep)\n",
    "\n",
    "# print('Inertia:',round(agglomerative.inertia_))\n",
    "print('Silhouette Score (Complete):',round(silhouette_score(X_prep, agglomerative_complete.fit_predict(X_prep)),3))\n",
    "print('Silhouette Score (Ward):',round(silhouette_score(X_prep, agglomerative_ward.fit_predict(X_prep)),3))\n",
    "print('Silhouette Score (Single):',round(silhouette_score(X_prep, agglomerative_single.fit_predict(X_prep)),3))\n"
   ]
  },
  {
   "cell_type": "code",
   "execution_count": 692,
   "id": "a4983d7a-d798-447f-8abc-652fc57a8874",
   "metadata": {},
   "outputs": [
    {
     "name": "stderr",
     "output_type": "stream",
     "text": [
      "Silhouette: 100%|██████████| 18/18 [02:33<00:00,  8.53s/it]\n"
     ]
    },
    {
     "data": {
      "text/plain": [
       "Text(0.5, 1.0, 'Silhouette Method showing the optimal k')"
      ]
     },
     "execution_count": 692,
     "metadata": {},
     "output_type": "execute_result"
    },
    {
     "data": {
      "image/png": "[encoded data removed]",
      "text/plain": [
       "<Figure size 1152x576 with 1 Axes>"
      ]
     },
     "metadata": {
      "needs_background": "light"
     },
     "output_type": "display_data"
    }
   ],
   "source": [
    "# Let's see how far can we go with agglomerative (single), changing the number of clusters\n",
    "\n",
    "K = range(2, 20)\n",
    "silhouette = []\n",
    "\n",
    "for k in tqdm(K,desc='Silhouette'):\n",
    "    \n",
    "    agglomerative_single = cluster.AgglomerativeClustering(n_clusters=k,linkage='single')\n",
    "    pred = agglomerative.fit_predict(X_prep)\n",
    "    silhouette.append(silhouette_score(X_prep, agglomerative_single.fit_predict(X_prep)))\n",
    "\n",
    "plt.figure(figsize=(16,8))\n",
    "plt.plot(K, silhouette, 'ro-')\n",
    "plt.xlabel('k')\n",
    "plt.ylabel('silhouette score')\n",
    "plt.xticks(np.arange(min(K), max(K)+1, 1.0))\n",
    "plt.title('Silhouette Method showing the optimal k')\n",
    "\n",
    "# Increasing the number of clusters to 10 will not have an adverse impact on silhouette score but can result in better matching\n",
    "# Alternatively, 5 clusters have a much higher score (almost 0.6) but may limit the recommendations greatly."
   ]
  },
  {
   "cell_type": "code",
   "execution_count": 693,
   "id": "4f7dac94-ba7a-4195-ba33-c92a601726a6",
   "metadata": {},
   "outputs": [
    {
     "data": {
      "image/png": "[encoded data removed]",
      "text/plain": [
       "<Figure size 432x288 with 1 Axes>"
      ]
     },
     "metadata": {
      "needs_background": "light"
     },
     "output_type": "display_data"
    },
    {
     "name": "stdout",
     "output_type": "stream",
     "text": [
      "Variance covered with 4 PCAs: 0.68\n"
     ]
    }
   ],
   "source": [
    "# PCA Analysis\n",
    "\n",
    "from sklearn.decomposition import PCA\n",
    "\n",
    "pca = PCA()\n",
    "pca.fit(X_prep)\n",
    "\n",
    "exp_var_pca = pca.explained_variance_ratio_\n",
    "\n",
    "# Cumulative sum of eigenvalues; This will be used to create step plot\n",
    "# for visualizing the variance explained by each principal component.\n",
    "\n",
    "cum_sum_eigenvalues = np.cumsum(exp_var_pca)\n",
    "\n",
    "# Create the visualization plot\n",
    "plt.bar(range(0,len(exp_var_pca)), exp_var_pca, \n",
    "        alpha=0.5, align='center', label='Individual explained variance')\n",
    "plt.step(range(0,len(cum_sum_eigenvalues)), cum_sum_eigenvalues, \n",
    "         where='mid',label='Cumulative explained variance')\n",
    "plt.ylabel('Explained variance ratio')\n",
    "plt.xlabel('Principal component index')\n",
    "plt.legend(loc='best')\n",
    "plt.tight_layout()\n",
    "plt.show()\n",
    "\n",
    "print('Variance covered with 4 PCAs:',round(pca.explained_variance_ratio_[:4].sum(),2)) # With 4 features out of 10, we get 68% variance explanation\n",
    "\n",
    "pca = PCA(2)\n",
    "pca.fit(X_prep)\n",
    "\n",
    "X_prep_pca = pca.transform(X_prep)"
   ]
  },
  {
   "cell_type": "code",
   "execution_count": 694,
   "id": "5e25b63d-0a6e-4ff1-9d67-5723c287189e",
   "metadata": {},
   "outputs": [
    {
     "name": "stdout",
     "output_type": "stream",
     "text": [
      "Silhouette Score (Single): 0.428\n"
     ]
    }
   ],
   "source": [
    "# Apply PCA features back to agglomerative (single) - we can get from 0.4 to 0.43 with 4 PCAs, not worth it\n",
    "\n",
    "agglomerative_single = cluster.AgglomerativeClustering(n_clusters=10,linkage='single')\n",
    "pred = agglomerative.fit_predict(X_prep_pca)\n",
    "print('Silhouette Score (Single):',round(silhouette_score(X_prep_pca, agglomerative_single.fit_predict(X_prep_pca)),3))"
   ]
  },
  {
   "cell_type": "code",
   "execution_count": 695,
   "id": "60dfc9b0-d98e-404e-b791-0b1e48068ecc",
   "metadata": {},
   "outputs": [
    {
     "name": "stdout",
     "output_type": "stream",
     "text": [
      "Silhouette Score (MeanShift): 0.23\n"
     ]
    },
    {
     "data": {
      "text/plain": [
       "0     9723\n",
       "1      864\n",
       "2      245\n",
       "3      230\n",
       "21     139\n",
       "      ... \n",
       "26       1\n",
       "19       1\n",
       "27       1\n",
       "25       1\n",
       "22       1\n",
       "Length: 28, dtype: int64"
      ]
     },
     "execution_count": 695,
     "metadata": {},
     "output_type": "execute_result"
    }
   ],
   "source": [
    "# Testing other models\n",
    "# MeanShift - very slow and low, many clusters created\n",
    "from sklearn.cluster import MeanShift\n",
    "\n",
    "meanshift = MeanShift(bandwidth=3).fit(X_prep)\n",
    "print('Silhouette Score (MeanShift):',round(silhouette_score(X_prep, meanshift.predict(X_prep)),3))\n",
    "pd.Series(meanshift.labels_).value_counts()"
   ]
  },
  {
   "cell_type": "code",
   "execution_count": 696,
   "id": "a8bc4dad-fe34-4de0-8294-186711435064",
   "metadata": {
    "tags": []
   },
   "outputs": [],
   "source": [
    "# # SpectralClustering  - takes too long to run\n",
    "# from sklearn.cluster import SpectralClustering\n",
    "\n",
    "# spectral = SpectralClustering(n_clusters=2,assign_labels='discretize',random_state=0).fit(X_prep)\n",
    "# print('Silhouette Score (SpectralClustering):',round(silhouette_score(X_prep, spectral.fit_predict(X_prep)),3))"
   ]
  },
  {
   "cell_type": "code",
   "execution_count": 697,
   "id": "38141011-e435-462f-84ca-e113a603ab06",
   "metadata": {},
   "outputs": [
    {
     "name": "stdout",
     "output_type": "stream",
     "text": [
      "Silhouette Score (DBSCAN): 0.294\n"
     ]
    },
    {
     "data": {
      "text/plain": [
       " 0     11078\n",
       " 1       479\n",
       " 2       128\n",
       " 3        18\n",
       " 6        12\n",
       "-1         9\n",
       " 11        7\n",
       " 7         4\n",
       " 5         4\n",
       " 10        4\n",
       " 9         3\n",
       " 14        2\n",
       " 13        2\n",
       " 12        2\n",
       " 4         2\n",
       " 8         2\n",
       "dtype: int64"
      ]
     },
     "execution_count": 697,
     "metadata": {},
     "output_type": "execute_result"
    }
   ],
   "source": [
    "# DBSCAN - lower than agglomerative, quite fast but still only one cluster mainly\n",
    "from sklearn.cluster import DBSCAN\n",
    "\n",
    "dbscan = DBSCAN(eps=3, min_samples=2).fit(X_prep)\n",
    "print('Silhouette Score (DBSCAN):',round(silhouette_score(X_prep, dbscan.fit_predict(X_prep)),3))\n",
    "pd.Series(dbscan.labels_).value_counts()"
   ]
  },
  {
   "cell_type": "code",
   "execution_count": 698,
   "id": "23c28335-ea5f-4bd1-911e-f39d86d8c8bb",
   "metadata": {},
   "outputs": [
    {
     "name": "stderr",
     "output_type": "stream",
     "text": [
      "/Users/Arek/opt/anaconda3/lib/python3.8/site-packages/sklearn/cluster/_optics.py:804: RuntimeWarning: divide by zero encountered in true_divide\n",
      "  ratio = reachability_plot[:-1] / reachability_plot[1:]\n",
      "/Users/Arek/opt/anaconda3/lib/python3.8/site-packages/sklearn/cluster/_optics.py:804: RuntimeWarning: divide by zero encountered in true_divide\n",
      "  ratio = reachability_plot[:-1] / reachability_plot[1:]\n"
     ]
    },
    {
     "name": "stdout",
     "output_type": "stream",
     "text": [
      "Silhouette Score (OPTICS): 0.375\n"
     ]
    },
    {
     "data": {
      "text/plain": [
       "-1       3015\n",
       " 696       19\n",
       " 3244      12\n",
       " 3166      11\n",
       " 1441       9\n",
       "         ... \n",
       " 1004       2\n",
       " 996        2\n",
       " 3037       2\n",
       " 988        2\n",
       " 0          2\n",
       "Length: 3349, dtype: int64"
      ]
     },
     "execution_count": 698,
     "metadata": {},
     "output_type": "execute_result"
    }
   ],
   "source": [
    "# OPTICS - lower than agglomerative but pretty close, quite slow, 3.5k clusters\n",
    "from sklearn.cluster import OPTICS\n",
    "\n",
    "optics = OPTICS(min_samples=2).fit(X_prep)\n",
    "print('Silhouette Score (OPTICS):',round(silhouette_score(X_prep, optics.fit_predict(X_prep)),3))\n",
    "pd.Series(optics.labels_).value_counts()"
   ]
  },
  {
   "cell_type": "code",
   "execution_count": 699,
   "id": "8de80281-39c1-4b27-b6b0-293d850951ea",
   "metadata": {},
   "outputs": [
    {
     "name": "stdout",
     "output_type": "stream",
     "text": [
      "Silhouette Score (BIRCH): 0.105\n"
     ]
    }
   ],
   "source": [
    "# BIRCH - very fast but very low\n",
    "from sklearn.cluster import Birch\n",
    "\n",
    "birch = Birch(n_clusters=10).fit(X_prep)\n",
    "print('Silhouette Score (BIRCH):',round(silhouette_score(X_prep, birch.predict(X_prep)),3))"
   ]
  },
  {
   "cell_type": "code",
   "execution_count": 700,
   "id": "888f6e6e-aea5-4887-aca1-d22ab318a92a",
   "metadata": {},
   "outputs": [
    {
     "name": "stdout",
     "output_type": "stream",
     "text": [
      "Silhouette Score (GaussianMixtures): 0.134\n"
     ]
    },
    {
     "data": {
      "text/plain": [
       "2    8247\n",
       "0    2637\n",
       "3     344\n",
       "1     294\n",
       "4     234\n",
       "dtype: int64"
      ]
     },
     "execution_count": 700,
     "metadata": {},
     "output_type": "execute_result"
    }
   ],
   "source": [
    "# GaussianMixture - fast & low\n",
    "from sklearn.mixture import GaussianMixture\n",
    "\n",
    "gm = GaussianMixture(n_components=5, random_state=0).fit(X_prep)\n",
    "print('Silhouette Score (GaussianMixtures):',round(silhouette_score(X_prep, gm.predict(X_prep)),3))\n",
    "pd.Series(gm.predict(X_prep)).value_counts()"
   ]
  },
  {
   "cell_type": "code",
   "execution_count": 701,
   "id": "daf09879-842f-4f90-a155-e7b779486c6b",
   "metadata": {},
   "outputs": [
    {
     "name": "stdout",
     "output_type": "stream",
     "text": [
      "Silhouette Score (Meanshift): 0.671\n"
     ]
    },
    {
     "data": {
      "text/plain": [
       "0    10578\n",
       "1     1178\n",
       "dtype: int64"
      ]
     },
     "execution_count": 701,
     "metadata": {},
     "output_type": "execute_result"
    }
   ],
   "source": [
    "# Same as above models, but with PCA now instead\n",
    "# Meanshift (PCA) - almost same as agglomerative without PCA, 7 clusters but one cluster is huge compared to others\n",
    "\n",
    "meanshift = MeanShift(bandwidth=2).fit(X_prep_pca)\n",
    "print('Silhouette Score (Meanshift):',round(silhouette_score(X_prep_pca, meanshift.predict(X_prep_pca)),3))\n",
    "pd.Series(meanshift.labels_).value_counts()"
   ]
  },
  {
   "cell_type": "code",
   "execution_count": 704,
   "id": "493df7fa-50a8-44b1-996a-f77c230236c7",
   "metadata": {},
   "outputs": [
    {
     "name": "stderr",
     "output_type": "stream",
     "text": [
      "/Users/Arek/opt/anaconda3/lib/python3.8/site-packages/sklearn/cluster/_optics.py:804: RuntimeWarning: divide by zero encountered in true_divide\n",
      "  ratio = reachability_plot[:-1] / reachability_plot[1:]\n",
      "/Users/Arek/opt/anaconda3/lib/python3.8/site-packages/sklearn/cluster/_optics.py:804: RuntimeWarning: divide by zero encountered in true_divide\n",
      "  ratio = reachability_plot[:-1] / reachability_plot[1:]\n"
     ]
    },
    {
     "name": "stdout",
     "output_type": "stream",
     "text": [
      "Silhouette Score (OPTICS): 0.565\n"
     ]
    },
    {
     "data": {
      "text/plain": [
       "-1       1214\n",
       " 1656      18\n",
       " 3555      13\n",
       " 3689      11\n",
       " 3427       9\n",
       "         ... \n",
       " 2893       2\n",
       " 844        2\n",
       " 2885       2\n",
       " 836        2\n",
       " 0          2\n",
       "Length: 3738, dtype: int64"
      ]
     },
     "execution_count": 704,
     "metadata": {},
     "output_type": "execute_result"
    }
   ],
   "source": [
    "# good result but 3572 clusters.. will pass on it\n",
    "optics = OPTICS(min_samples=2).fit(X_prep_pca)\n",
    "print('Silhouette Score (OPTICS):',round(silhouette_score(X_prep_pca, optics.fit_predict(X_prep_pca)),3))\n",
    "pd.Series(optics.labels_).value_counts()"
   ]
  },
  {
   "cell_type": "code",
   "execution_count": 705,
   "id": "5ee4e806-5bb6-4964-8780-0055ede6edd7",
   "metadata": {},
   "outputs": [
    {
     "name": "stdout",
     "output_type": "stream",
     "text": [
      "Silhouette Score (BIRCH): 0.18\n"
     ]
    },
    {
     "data": {
      "text/plain": [
       "0    8505\n",
       "8    1135\n",
       "1     647\n",
       "4     481\n",
       "2     335\n",
       "7     261\n",
       "9     175\n",
       "6     172\n",
       "5      25\n",
       "3      20\n",
       "dtype: int64"
      ]
     },
     "execution_count": 705,
     "metadata": {},
     "output_type": "execute_result"
    }
   ],
   "source": [
    "# the only model comparable to kmeans\n",
    "birch = Birch(n_clusters=10).fit(X_prep_pca)\n",
    "print('Silhouette Score (BIRCH):',round(silhouette_score(X_prep_pca, birch.predict(X_prep_pca)),3))\n",
    "pd.Series(birch.labels_).value_counts()"
   ]
  },
  {
   "cell_type": "code",
   "execution_count": 706,
   "id": "c176adef-abba-4d5d-9415-f201e518b81c",
   "metadata": {},
   "outputs": [
    {
     "name": "stdout",
     "output_type": "stream",
     "text": [
      "Silhouette Score (GaussianMixtures): 0.316\n"
     ]
    },
    {
     "data": {
      "text/plain": [
       "0    3096\n",
       "3    2281\n",
       "8    1640\n",
       "6    1341\n",
       "4    1034\n",
       "2     717\n",
       "5     706\n",
       "1     593\n",
       "7     348\n",
       "dtype: int64"
      ]
     },
     "execution_count": 706,
     "metadata": {},
     "output_type": "execute_result"
    }
   ],
   "source": [
    "# second contender to kmeans\n",
    "gm = GaussianMixture(n_components= 9, random_state=16).fit(X_prep_pca)\n",
    "print('Silhouette Score (GaussianMixtures):',round(silhouette_score(X_prep_pca, gm.predict(X_prep_pca)),3))\n",
    "pd.Series(gm.predict(X_prep_pca)).value_counts()"
   ]
  },
  {
   "cell_type": "code",
   "execution_count": 727,
   "id": "72b6befb-e2c1-4272-bb7f-8284b8a5b2c0",
   "metadata": {},
   "outputs": [
    {
     "name": "stderr",
     "output_type": "stream",
     "text": [
      "Silhouette: 100%|██████████| 98/98 [05:31<00:00,  3.39s/it]\n"
     ]
    },
    {
     "data": {
      "text/plain": [
       "Text(0.5, 1.0, 'Silhouette Method showing the optimal k')"
      ]
     },
     "execution_count": 727,
     "metadata": {},
     "output_type": "execute_result"
    },
    {
     "data": {
      "image/png": "[encoded data removed]",
      "text/plain": [
       "<Figure size 1152x576 with 1 Axes>"
      ]
     },
     "metadata": {
      "needs_background": "light"
     },
     "output_type": "display_data"
    }
   ],
   "source": [
    "# Trying with different clusters for the chosen model\n",
    "\n",
    "K = range(2, 100)\n",
    "silhouette = []\n",
    "\n",
    "for k in tqdm(K,desc='Silhouette'):    \n",
    "    best_model = GaussianMixture(n_components= k, random_state=16).fit(X_prep_pca)   \n",
    "    silhouette.append(round(silhouette_score(X_prep_pca, best_model.predict(X_prep_pca)),3))\n",
    "    \n",
    "plt.figure(figsize=(16,8))\n",
    "plt.plot(K, silhouette, 'ro-')\n",
    "plt.xlabel('k')\n",
    "plt.ylabel('silhouette score')\n",
    "plt.xticks(np.arange(min(K), max(K)+1, 1.0))\n",
    "plt.title('Silhouette Method showing the optimal k')"
   ]
  },
  {
   "cell_type": "code",
   "execution_count": 729,
   "id": "c834d7b2-1259-4bfa-8248-6ab27d1df812",
   "metadata": {},
   "outputs": [
    {
     "name": "stdout",
     "output_type": "stream",
     "text": [
      "Silhouette Score (GaussianMixtures): 0.322\n"
     ]
    },
    {
     "data": {
      "text/plain": [
       "79    390\n",
       "22    342\n",
       "0     336\n",
       "13    311\n",
       "62    307\n",
       "     ... \n",
       "94     10\n",
       "50     10\n",
       "86      8\n",
       "91      5\n",
       "47      2\n",
       "Length: 100, dtype: int64"
      ]
     },
     "execution_count": 729,
     "metadata": {},
     "output_type": "execute_result"
    }
   ],
   "source": [
    "# Model Selection\n",
    "# Given the results of different models & PCA mix, the best results are returned by GaussianMixture model with:\n",
    "\n",
    "# 1. 9 components (= clusters) (I might be experimenting with other number of clusters as well)\n",
    "# 2. PCA reduction to only PCA(2)\n",
    "# 3. Random state of 16\n",
    "\n",
    "# It then achieves a silhouette score of 0.325, much higher than 0.17 from Kmeans, with pretty uniform distribution of songs in the clusters\n",
    "\n",
    "best_model = GaussianMixture(n_components= 100, random_state=16).fit(X_prep_pca)\n",
    "print('Silhouette Score (GaussianMixtures):',round(silhouette_score(X_prep_pca, best_model.predict(X_prep_pca)),3))\n",
    "pd.Series(best_model.predict(X_prep_pca)).value_counts()"
   ]
  },
  {
   "cell_type": "code",
   "execution_count": 708,
   "id": "c177349b-6500-4ef3-985d-9c0050e11d35",
   "metadata": {},
   "outputs": [
    {
     "data": {
      "text/plain": [
       "<matplotlib.collections.PathCollection at 0x7f8c3d43b640>"
      ]
     },
     "execution_count": 708,
     "metadata": {},
     "output_type": "execute_result"
    },
    {
     "data": {
      "image/png": "[encoded data removed]",
      "text/plain": [
       "<Figure size 432x288 with 1 Axes>"
      ]
     },
     "metadata": {
      "needs_background": "light"
     },
     "output_type": "display_data"
    }
   ],
   "source": [
    "# Visualization of the PCA1 & PCA2 \n",
    "\n",
    "plt.scatter(X_prep_pca[:,0],X_prep_pca[:,1], alpha = 0.1)"
   ]
  },
  {
   "cell_type": "code",
   "execution_count": 738,
   "id": "6179cc6f-1ec6-4a4e-8e61-cfe2325eabfa",
   "metadata": {},
   "outputs": [],
   "source": [
    "# Assigning these clusters to the track list, so we can pick a song later on\n",
    "\n",
    "pred = pd.Series(best_model.predict(X_prep_pca))\n",
    "database = pd.concat([database,pred], axis = 1)\n",
    "database = database.rename(columns={0: 'cluster'})\n",
    "database.to_csv('db.csv', index=False)"
   ]
  },
  {
   "cell_type": "code",
   "execution_count": 731,
   "id": "1bfc3a95-6f22-42fc-ab1d-5e8cc5daa453",
   "metadata": {},
   "outputs": [],
   "source": [
    "import pickle\n",
    "\n",
    "# Saving scaler\n",
    "scaler_saved = 'scaler_saved.sav'\n",
    "pickle.dump(scaler, open(scaler_saved, 'wb'))\n",
    "\n",
    "# Saving PCA\n",
    "pca_saved = 'pca_saved.sav'\n",
    "pickle.dump(pca, open(pca_saved, 'wb'))\n",
    "\n",
    "# Saving main model\n",
    "best_model_saved = 'best_model_saved.sav'\n",
    "pickle.dump(best_model, open(best_model_saved, 'wb'))"
   ]
  },
  {
   "cell_type": "code",
   "execution_count": null,
   "id": "72341122-c984-431b-ad1c-c762e7b78eb6",
   "metadata": {},
   "outputs": [],
   "source": [
    "database"
   ]
  }
 ],
 "metadata": {
  "kernelspec": {
   "display_name": "Python 3 (ipykernel)",
   "language": "python",
   "name": "python3"
  },
  "language_info": {
   "codemirror_mode": {
    "name": "ipython",
    "version": 3
   },
   "file_extension": ".py",
   "mimetype": "text/x-python",
   "name": "python",
   "nbconvert_exporter": "python",
   "pygments_lexer": "ipython3",
   "version": "3.8.8"
  }
 },
 "nbformat": 4,
 "nbformat_minor": 5
}
